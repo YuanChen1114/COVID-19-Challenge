{
 "cells": [
  {
   "cell_type": "markdown",
   "metadata": {},
   "source": [
    "# The objective of this code:\n",
    "### 1. Explore the causal relationship between the mobility and the growth rate of new cases\n",
    "### 2. Explore the relationship between the partisanship and the severity of COVID-19"
   ]
  },
  {
   "cell_type": "code",
   "execution_count": 1,
   "metadata": {},
   "outputs": [],
   "source": [
    "import pandas as pd\n",
    "from pandas import DataFrame,Series\n",
    "import numpy as np\n",
    "from matplotlib import pyplot as plt\n",
    "from sklearn.cluster import KMeans\n",
    "from sklearn import preprocessing\n",
    "from sklearn.linear_model import LinearRegression\n",
    "from sklearn import metrics\n",
    "import statsmodels.api as sm # import statsmodels \n",
    "import seaborn as sns\n",
    "import sklearn\n",
    "from sklearn.linear_model import Lasso\n",
    "from sklearn.model_selection import GridSearchCV\n",
    "%matplotlib inline\n",
    "from scipy.stats.mstats import gmean\n",
    "from statsmodels.stats.outliers_influence import variance_inflation_factor\n",
    "from sklearn.decomposition import PCA\n",
    "\n",
    "import warnings\n",
    "warnings.filterwarnings(\"ignore\")"
   ]
  },
  {
   "cell_type": "markdown",
   "metadata": {},
   "source": [
    "# Data Preparation"
   ]
  },
  {
   "cell_type": "code",
   "execution_count": 85,
   "metadata": {},
   "outputs": [],
   "source": [
    "#import data\n",
    "mobility = pd.read_csv('Mobility (Final).csv')\n",
    "case = pd.read_csv('us-states.csv')\n",
    "state_demo = pd.read_csv('state_info_khaled.csv')"
   ]
  },
  {
   "cell_type": "code",
   "execution_count": 86,
   "metadata": {},
   "outputs": [],
   "source": [
    "#change data type\n",
    "mobility['Day'] = pd.to_datetime(mobility['Day'])\n",
    "case['date'] = pd.to_datetime(case['date'])"
   ]
  },
  {
   "cell_type": "code",
   "execution_count": 87,
   "metadata": {},
   "outputs": [],
   "source": [
    "#merge data\n",
    "start_date = case.groupby('state')['date'].min()\n",
    "case = case.merge(start_date,left_on='state',right_index=True)\n",
    "case.columns = ['date','state','fips','cases','deaths','start_date']"
   ]
  },
  {
   "cell_type": "code",
   "execution_count": 5,
   "metadata": {},
   "outputs": [],
   "source": [
    "#calcualte new cases\n",
    "case['cases'] = case.groupby('state')['cases'].diff()\n",
    "case = case.dropna()"
   ]
  },
  {
   "cell_type": "code",
   "execution_count": 6,
   "metadata": {},
   "outputs": [],
   "source": [
    "#merge data\n",
    "combined = mobility.merge(case,left_on=['State','Day'],right_on=['state','date'],how='inner')"
   ]
  },
  {
   "cell_type": "code",
   "execution_count": 7,
   "metadata": {},
   "outputs": [],
   "source": [
    "#calculate the relative day since the start of spread in each state\n",
    "combined['relative_day'] = (combined['Day']-combined['start_date']).map(lambda x: str(x).split(' ')[0])"
   ]
  },
  {
   "cell_type": "code",
   "execution_count": 8,
   "metadata": {},
   "outputs": [],
   "source": [
    "#drop unused columns\n",
    "combined = combined.drop(['state','Day','date','start_date'],axis=1)"
   ]
  },
  {
   "cell_type": "code",
   "execution_count": 9,
   "metadata": {},
   "outputs": [],
   "source": [
    "#merge data\n",
    "combined = combined.merge(state_demo[['State','Population']],left_on='State',right_on='State')"
   ]
  },
  {
   "cell_type": "code",
   "execution_count": 10,
   "metadata": {},
   "outputs": [],
   "source": [
    "#scale cases with population\n",
    "combined['cases'] = 1000000*combined['cases']/combined['Population']"
   ]
  },
  {
   "cell_type": "code",
   "execution_count": 11,
   "metadata": {},
   "outputs": [],
   "source": [
    "#genertae the moving average of 10 days\n",
    "roll_mean = combined.groupby('State')['cases','Retail & Recreation','Grocery & Pharmacy',\n",
    "                                     'Parks','Workplace','Residential'].rolling(10).mean().reset_index().drop('level_1',axis=1)"
   ]
  },
  {
   "cell_type": "code",
   "execution_count": 12,
   "metadata": {},
   "outputs": [],
   "source": [
    "#change data type\n",
    "roll_mean['relative_day'] = combined['relative_day'].astype('int')"
   ]
  },
  {
   "cell_type": "code",
   "execution_count": 13,
   "metadata": {},
   "outputs": [],
   "source": [
    "#lead the moving avergae of the new cases for 5 days\n",
    "roll_mean = roll_mean.dropna()\n",
    "\n",
    "def align(x):\n",
    "    x['lead_cases'] = x['cases'].shift(periods=-5)\n",
    "    return x\n",
    "    \n",
    "roll_mean = roll_mean.groupby('State').apply(align).dropna()"
   ]
  },
  {
   "cell_type": "code",
   "execution_count": 14,
   "metadata": {},
   "outputs": [],
   "source": [
    "#combine with the demographic information\n",
    "roll_mean = roll_mean.merge(state_demo,left_on='State',right_on='State')"
   ]
  },
  {
   "cell_type": "markdown",
   "metadata": {},
   "source": [
    "# Panel data regression model "
   ]
  },
  {
   "cell_type": "code",
   "execution_count": 15,
   "metadata": {},
   "outputs": [],
   "source": [
    "X = roll_mean[['Retail & Recreation', 'Grocery & Pharmacy', 'Parks',\n",
    "       'Workplace', 'Residential', 'relative_day', 'Pop Density', 'Health Spending', 'Med-Large Airports']]\n",
    "\n",
    "Y = roll_mean['lead_cases']"
   ]
  },
  {
   "cell_type": "code",
   "execution_count": 16,
   "metadata": {},
   "outputs": [
    {
     "data": {
      "image/png": "[encoded data removed]",
      "text/plain": [
       "<Figure size 432x288 with 2 Axes>"
      ]
     },
     "metadata": {
      "needs_background": "light"
     },
     "output_type": "display_data"
    }
   ],
   "source": [
    "#check the correlation\n",
    "corr = pd.concat([X,Y],axis=1).corr()\n",
    "ax = sns.heatmap(corr)"
   ]
  },
  {
   "cell_type": "markdown",
   "metadata": {},
   "source": [
    "### PCA on the three mobility index"
   ]
  },
  {
   "cell_type": "code",
   "execution_count": 17,
   "metadata": {},
   "outputs": [],
   "source": [
    "pca = PCA(n_components=1)\n",
    "principalComponents = pca.fit_transform(X[['Retail & Recreation','Grocery & Pharmacy','Workplace']])\n",
    "principalDf = pd.DataFrame(data = principalComponents\n",
    "             , columns = ['principal component 1'])"
   ]
  },
  {
   "cell_type": "code",
   "execution_count": 18,
   "metadata": {},
   "outputs": [],
   "source": [
    "X = X.drop(['Retail & Recreation','Grocery & Pharmacy','Workplace'],axis=1)\n",
    "X['combined_mobility'] = principalDf['principal component 1']"
   ]
  },
  {
   "cell_type": "code",
   "execution_count": 19,
   "metadata": {},
   "outputs": [],
   "source": [
    "vif=DataFrame()\n",
    "vif[\"VIF Factor\"] = [variance_inflation_factor(X.values, i) for i in range(X.shape[1])]"
   ]
  },
  {
   "cell_type": "code",
   "execution_count": 20,
   "metadata": {},
   "outputs": [
    {
     "data": {
      "text/html": [
       "<div>\n",
       "<style scoped>\n",
       "    .dataframe tbody tr th:only-of-type {\n",
       "        vertical-align: middle;\n",
       "    }\n",
       "\n",
       "    .dataframe tbody tr th {\n",
       "        vertical-align: top;\n",
       "    }\n",
       "\n",
       "    .dataframe thead th {\n",
       "        text-align: right;\n",
       "    }\n",
       "</style>\n",
       "<table border=\"1\" class=\"dataframe\">\n",
       "  <thead>\n",
       "    <tr style=\"text-align: right;\">\n",
       "      <th></th>\n",
       "      <th>VIF Factor</th>\n",
       "    </tr>\n",
       "  </thead>\n",
       "  <tbody>\n",
       "    <tr>\n",
       "      <th>Parks</th>\n",
       "      <td>2.286298</td>\n",
       "    </tr>\n",
       "    <tr>\n",
       "      <th>Residential</th>\n",
       "      <td>34.323657</td>\n",
       "    </tr>\n",
       "    <tr>\n",
       "      <th>relative_day</th>\n",
       "      <td>4.959491</td>\n",
       "    </tr>\n",
       "    <tr>\n",
       "      <th>Pop Density</th>\n",
       "      <td>1.371416</td>\n",
       "    </tr>\n",
       "    <tr>\n",
       "      <th>Health Spending</th>\n",
       "      <td>23.144307</td>\n",
       "    </tr>\n",
       "    <tr>\n",
       "      <th>Med-Large Airports</th>\n",
       "      <td>2.078784</td>\n",
       "    </tr>\n",
       "    <tr>\n",
       "      <th>combined_mobility</th>\n",
       "      <td>10.660131</td>\n",
       "    </tr>\n",
       "  </tbody>\n",
       "</table>\n",
       "</div>"
      ],
      "text/plain": [
       "                    VIF Factor\n",
       "Parks                 2.286298\n",
       "Residential          34.323657\n",
       "relative_day          4.959491\n",
       "Pop Density           1.371416\n",
       "Health Spending      23.144307\n",
       "Med-Large Airports    2.078784\n",
       "combined_mobility    10.660131"
      ]
     },
     "execution_count": 20,
     "metadata": {},
     "output_type": "execute_result"
    }
   ],
   "source": [
    "vif.index = X.columns\n",
    "vif"
   ]
  },
  {
   "cell_type": "markdown",
   "metadata": {},
   "source": [
    "### Fit the model"
   ]
  },
  {
   "cell_type": "code",
   "execution_count": 21,
   "metadata": {},
   "outputs": [
    {
     "data": {
      "text/html": [
       "<table class=\"simpletable\">\n",
       "<caption>OLS Regression Results</caption>\n",
       "<tr>\n",
       "  <th>Dep. Variable:</th>       <td>lead_cases</td>    <th>  R-squared (uncentered):</th>      <td>   0.431</td> \n",
       "</tr>\n",
       "<tr>\n",
       "  <th>Model:</th>                   <td>OLS</td>       <th>  Adj. R-squared (uncentered):</th> <td>   0.426</td> \n",
       "</tr>\n",
       "<tr>\n",
       "  <th>Method:</th>             <td>Least Squares</td>  <th>  F-statistic:       </th>          <td>   93.64</td> \n",
       "</tr>\n",
       "<tr>\n",
       "  <th>Date:</th>             <td>Wed, 15 Apr 2020</td> <th>  Prob (F-statistic):</th>          <td>1.64e-101</td>\n",
       "</tr>\n",
       "<tr>\n",
       "  <th>Time:</th>                 <td>03:42:07</td>     <th>  Log-Likelihood:    </th>          <td> -4496.7</td> \n",
       "</tr>\n",
       "<tr>\n",
       "  <th>No. Observations:</th>      <td>   872</td>      <th>  AIC:               </th>          <td>   9007.</td> \n",
       "</tr>\n",
       "<tr>\n",
       "  <th>Df Residuals:</th>          <td>   865</td>      <th>  BIC:               </th>          <td>   9041.</td> \n",
       "</tr>\n",
       "<tr>\n",
       "  <th>Df Model:</th>              <td>     7</td>      <th>                     </th>              <td> </td>    \n",
       "</tr>\n",
       "<tr>\n",
       "  <th>Covariance Type:</th>      <td>nonrobust</td>    <th>                     </th>              <td> </td>    \n",
       "</tr>\n",
       "</table>\n",
       "<table class=\"simpletable\">\n",
       "<tr>\n",
       "           <td></td>             <th>coef</th>     <th>std err</th>      <th>t</th>      <th>P>|t|</th>  <th>[0.025</th>    <th>0.975]</th>  \n",
       "</tr>\n",
       "<tr>\n",
       "  <th>Parks</th>              <td>   -0.2027</td> <td>    0.082</td> <td>   -2.473</td> <td> 0.014</td> <td>   -0.364</td> <td>   -0.042</td>\n",
       "</tr>\n",
       "<tr>\n",
       "  <th>Residential</th>        <td>   -0.1479</td> <td>    0.745</td> <td>   -0.199</td> <td> 0.843</td> <td>   -1.609</td> <td>    1.314</td>\n",
       "</tr>\n",
       "<tr>\n",
       "  <th>relative_day</th>       <td>   -0.1161</td> <td>    0.111</td> <td>   -1.050</td> <td> 0.294</td> <td>   -0.333</td> <td>    0.101</td>\n",
       "</tr>\n",
       "<tr>\n",
       "  <th>Pop Density</th>        <td>   -0.0011</td> <td>    0.001</td> <td>   -1.037</td> <td> 0.300</td> <td>   -0.003</td> <td>    0.001</td>\n",
       "</tr>\n",
       "<tr>\n",
       "  <th>Health Spending</th>    <td>    0.0040</td> <td>    0.001</td> <td>    4.885</td> <td> 0.000</td> <td>    0.002</td> <td>    0.006</td>\n",
       "</tr>\n",
       "<tr>\n",
       "  <th>Med-Large Airports</th> <td>    0.9574</td> <td>    0.814</td> <td>    1.177</td> <td> 0.240</td> <td>   -0.640</td> <td>    2.554</td>\n",
       "</tr>\n",
       "<tr>\n",
       "  <th>combined_mobility</th>  <td>    0.9038</td> <td>    0.184</td> <td>    4.904</td> <td> 0.000</td> <td>    0.542</td> <td>    1.266</td>\n",
       "</tr>\n",
       "</table>\n",
       "<table class=\"simpletable\">\n",
       "<tr>\n",
       "  <th>Omnibus:</th>       <td>844.264</td> <th>  Durbin-Watson:     </th> <td>   0.197</td> \n",
       "</tr>\n",
       "<tr>\n",
       "  <th>Prob(Omnibus):</th> <td> 0.000</td>  <th>  Jarque-Bera (JB):  </th> <td>29119.157</td>\n",
       "</tr>\n",
       "<tr>\n",
       "  <th>Skew:</th>          <td> 4.565</td>  <th>  Prob(JB):          </th> <td>    0.00</td> \n",
       "</tr>\n",
       "<tr>\n",
       "  <th>Kurtosis:</th>      <td>29.797</td>  <th>  Cond. No.          </th> <td>4.79e+03</td> \n",
       "</tr>\n",
       "</table><br/><br/>Warnings:<br/>[1] Standard Errors assume that the covariance matrix of the errors is correctly specified.<br/>[2] The condition number is large, 4.79e+03. This might indicate that there are<br/>strong multicollinearity or other numerical problems."
      ],
      "text/plain": [
       "<class 'statsmodels.iolib.summary.Summary'>\n",
       "\"\"\"\n",
       "                                 OLS Regression Results                                \n",
       "=======================================================================================\n",
       "Dep. Variable:             lead_cases   R-squared (uncentered):                   0.431\n",
       "Model:                            OLS   Adj. R-squared (uncentered):              0.426\n",
       "Method:                 Least Squares   F-statistic:                              93.64\n",
       "Date:                Wed, 15 Apr 2020   Prob (F-statistic):                   1.64e-101\n",
       "Time:                        03:42:07   Log-Likelihood:                         -4496.7\n",
       "No. Observations:                 872   AIC:                                      9007.\n",
       "Df Residuals:                     865   BIC:                                      9041.\n",
       "Df Model:                           7                                                  \n",
       "Covariance Type:            nonrobust                                                  \n",
       "======================================================================================\n",
       "                         coef    std err          t      P>|t|      [0.025      0.975]\n",
       "--------------------------------------------------------------------------------------\n",
       "Parks                 -0.2027      0.082     -2.473      0.014      -0.364      -0.042\n",
       "Residential           -0.1479      0.745     -0.199      0.843      -1.609       1.314\n",
       "relative_day          -0.1161      0.111     -1.050      0.294      -0.333       0.101\n",
       "Pop Density           -0.0011      0.001     -1.037      0.300      -0.003       0.001\n",
       "Health Spending        0.0040      0.001      4.885      0.000       0.002       0.006\n",
       "Med-Large Airports     0.9574      0.814      1.177      0.240      -0.640       2.554\n",
       "combined_mobility      0.9038      0.184      4.904      0.000       0.542       1.266\n",
       "==============================================================================\n",
       "Omnibus:                      844.264   Durbin-Watson:                   0.197\n",
       "Prob(Omnibus):                  0.000   Jarque-Bera (JB):            29119.157\n",
       "Skew:                           4.565   Prob(JB):                         0.00\n",
       "Kurtosis:                      29.797   Cond. No.                     4.79e+03\n",
       "==============================================================================\n",
       "\n",
       "Warnings:\n",
       "[1] Standard Errors assume that the covariance matrix of the errors is correctly specified.\n",
       "[2] The condition number is large, 4.79e+03. This might indicate that there are\n",
       "strong multicollinearity or other numerical problems.\n",
       "\"\"\""
      ]
     },
     "execution_count": 21,
     "metadata": {},
     "output_type": "execute_result"
    }
   ],
   "source": [
    "model = sm.OLS(Y, X).fit() ## sm.OLS(output, input)\n",
    "\n",
    "# Print out the statistics\n",
    "model.summary()"
   ]
  },
  {
   "cell_type": "markdown",
   "metadata": {},
   "source": [
    "# Explore the relationship between the partisanship and the severity of COVID-19"
   ]
  },
  {
   "cell_type": "code",
   "execution_count": 141,
   "metadata": {},
   "outputs": [],
   "source": [
    "#import data\n",
    "aff = pd.read_csv('governor_party_affiliation.csv')"
   ]
  },
  {
   "cell_type": "code",
   "execution_count": 102,
   "metadata": {},
   "outputs": [],
   "source": [
    "state_demo2 = state_demo.copy()"
   ]
  },
  {
   "cell_type": "code",
   "execution_count": 103,
   "metadata": {},
   "outputs": [],
   "source": [
    "#calculate the infected/population\n",
    "state_demo2['infected_pop'] = state_demo2['Infected']/state_demo2['Population']"
   ]
  },
  {
   "cell_type": "code",
   "execution_count": 119,
   "metadata": {},
   "outputs": [],
   "source": [
    "#calculate the lenghth of time since the outbreak of each state\n",
    "duration = pd.to_datetime('2020-04-15')-start_date"
   ]
  },
  {
   "cell_type": "code",
   "execution_count": 122,
   "metadata": {},
   "outputs": [],
   "source": [
    "#merge the data\n",
    "state_demo2 = state_demo2.merge(duration,left_on='State',right_index=True)"
   ]
  },
  {
   "cell_type": "code",
   "execution_count": 133,
   "metadata": {},
   "outputs": [],
   "source": [
    "state_demo2['duration'] = state_demo2['date'].map(lambda x: str(x).split(' ')[0])"
   ]
  },
  {
   "cell_type": "code",
   "execution_count": 137,
   "metadata": {},
   "outputs": [],
   "source": [
    "state_demo2['duration'] = state_demo2['duration'].astype('int')"
   ]
  },
  {
   "cell_type": "code",
   "execution_count": 138,
   "metadata": {},
   "outputs": [],
   "source": [
    "#calcualte the (cases/population)/duration\n",
    "state_demo2['final_case_ratio'] = state_demo2['infected_pop']/state_demo2['duration']"
   ]
  },
  {
   "cell_type": "code",
   "execution_count": 144,
   "metadata": {},
   "outputs": [],
   "source": [
    "state_demo2 = state_demo2.merge(aff,left_on='State',right_on='State')"
   ]
  },
  {
   "cell_type": "code",
   "execution_count": 152,
   "metadata": {
    "scrolled": true
   },
   "outputs": [],
   "source": [
    "state_demo2['Party_affiliation'] = state_demo2['Party_affiliation'].map(lambda x: 1 if (x=='Republican') else 0)"
   ]
  },
  {
   "cell_type": "code",
   "execution_count": 164,
   "metadata": {},
   "outputs": [
    {
     "data": {
      "text/plain": [
       "3.6879898202769015"
      ]
     },
     "execution_count": 164,
     "metadata": {},
     "output_type": "execute_result"
    }
   ],
   "source": [
    "# get the mean of final_case_ratio to get the sense of coefficients\n",
    "Y.mean()"
   ]
  },
  {
   "cell_type": "markdown",
   "metadata": {},
   "source": [
    "### Fit the model"
   ]
  },
  {
   "cell_type": "code",
   "execution_count": 162,
   "metadata": {},
   "outputs": [
    {
     "data": {
      "text/html": [
       "<table class=\"simpletable\">\n",
       "<caption>OLS Regression Results</caption>\n",
       "<tr>\n",
       "  <th>Dep. Variable:</th>    <td>final_case_ratio</td> <th>  R-squared (uncentered):</th>      <td>   0.373</td>\n",
       "</tr>\n",
       "<tr>\n",
       "  <th>Model:</th>                   <td>OLS</td>       <th>  Adj. R-squared (uncentered):</th> <td>   0.347</td>\n",
       "</tr>\n",
       "<tr>\n",
       "  <th>Method:</th>             <td>Least Squares</td>  <th>  F-statistic:       </th>          <td>   14.29</td>\n",
       "</tr>\n",
       "<tr>\n",
       "  <th>Date:</th>             <td>Wed, 15 Apr 2020</td> <th>  Prob (F-statistic):</th>          <td>1.35e-05</td>\n",
       "</tr>\n",
       "<tr>\n",
       "  <th>Time:</th>                 <td>04:53:45</td>     <th>  Log-Likelihood:    </th>          <td> -149.75</td>\n",
       "</tr>\n",
       "<tr>\n",
       "  <th>No. Observations:</th>      <td>    50</td>      <th>  AIC:               </th>          <td>   303.5</td>\n",
       "</tr>\n",
       "<tr>\n",
       "  <th>Df Residuals:</th>          <td>    48</td>      <th>  BIC:               </th>          <td>   307.3</td>\n",
       "</tr>\n",
       "<tr>\n",
       "  <th>Df Model:</th>              <td>     2</td>      <th>                     </th>              <td> </td>   \n",
       "</tr>\n",
       "<tr>\n",
       "  <th>Covariance Type:</th>      <td>nonrobust</td>    <th>                     </th>              <td> </td>   \n",
       "</tr>\n",
       "</table>\n",
       "<table class=\"simpletable\">\n",
       "<tr>\n",
       "          <td></td>             <th>coef</th>     <th>std err</th>      <th>t</th>      <th>P>|t|</th>  <th>[0.025</th>    <th>0.975]</th>  \n",
       "</tr>\n",
       "<tr>\n",
       "  <th>Pop Density</th>       <td>    0.0090</td> <td>    0.002</td> <td>    4.093</td> <td> 0.000</td> <td>    0.005</td> <td>    0.013</td>\n",
       "</tr>\n",
       "<tr>\n",
       "  <th>Party_affiliation</th> <td>    1.9555</td> <td>    1.024</td> <td>    1.909</td> <td> 0.062</td> <td>   -0.104</td> <td>    4.015</td>\n",
       "</tr>\n",
       "</table>\n",
       "<table class=\"simpletable\">\n",
       "<tr>\n",
       "  <th>Omnibus:</th>       <td>36.847</td> <th>  Durbin-Watson:     </th> <td>   2.202</td>\n",
       "</tr>\n",
       "<tr>\n",
       "  <th>Prob(Omnibus):</th> <td> 0.000</td> <th>  Jarque-Bera (JB):  </th> <td>  96.200</td>\n",
       "</tr>\n",
       "<tr>\n",
       "  <th>Skew:</th>          <td> 2.100</td> <th>  Prob(JB):          </th> <td>1.29e-21</td>\n",
       "</tr>\n",
       "<tr>\n",
       "  <th>Kurtosis:</th>      <td> 8.342</td> <th>  Cond. No.          </th> <td>    490.</td>\n",
       "</tr>\n",
       "</table><br/><br/>Warnings:<br/>[1] Standard Errors assume that the covariance matrix of the errors is correctly specified."
      ],
      "text/plain": [
       "<class 'statsmodels.iolib.summary.Summary'>\n",
       "\"\"\"\n",
       "                                 OLS Regression Results                                \n",
       "=======================================================================================\n",
       "Dep. Variable:       final_case_ratio   R-squared (uncentered):                   0.373\n",
       "Model:                            OLS   Adj. R-squared (uncentered):              0.347\n",
       "Method:                 Least Squares   F-statistic:                              14.29\n",
       "Date:                Wed, 15 Apr 2020   Prob (F-statistic):                    1.35e-05\n",
       "Time:                        04:53:45   Log-Likelihood:                         -149.75\n",
       "No. Observations:                  50   AIC:                                      303.5\n",
       "Df Residuals:                      48   BIC:                                      307.3\n",
       "Df Model:                           2                                                  \n",
       "Covariance Type:            nonrobust                                                  \n",
       "=====================================================================================\n",
       "                        coef    std err          t      P>|t|      [0.025      0.975]\n",
       "-------------------------------------------------------------------------------------\n",
       "Pop Density           0.0090      0.002      4.093      0.000       0.005       0.013\n",
       "Party_affiliation     1.9555      1.024      1.909      0.062      -0.104       4.015\n",
       "==============================================================================\n",
       "Omnibus:                       36.847   Durbin-Watson:                   2.202\n",
       "Prob(Omnibus):                  0.000   Jarque-Bera (JB):               96.200\n",
       "Skew:                           2.100   Prob(JB):                     1.29e-21\n",
       "Kurtosis:                       8.342   Cond. No.                         490.\n",
       "==============================================================================\n",
       "\n",
       "Warnings:\n",
       "[1] Standard Errors assume that the covariance matrix of the errors is correctly specified.\n",
       "\"\"\""
      ]
     },
     "execution_count": 162,
     "metadata": {},
     "output_type": "execute_result"
    }
   ],
   "source": [
    "X = state_demo2[['Pop Density','Party_affiliation']]\n",
    "Y = state_demo2['final_case_ratio']*100000\n",
    "model = sm.OLS(Y, X).fit() ## sm.OLS(output, input)\n",
    "\n",
    "# Print out the statistics\n",
    "model.summary()"
   ]
  }
 ],
 "metadata": {
  "kernelspec": {
   "display_name": "Python 3",
   "language": "python",
   "name": "python3"
  },
  "language_info": {
   "codemirror_mode": {
    "name": "ipython",
    "version": 3
   },
   "file_extension": ".py",
   "mimetype": "text/x-python",
   "name": "python",
   "nbconvert_exporter": "python",
   "pygments_lexer": "ipython3",
   "version": "3.7.6"
  }
 },
 "nbformat": 4,
 "nbformat_minor": 4
}
